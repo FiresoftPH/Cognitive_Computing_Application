{
  "cells": [
    {
      "cell_type": "code",
      "execution_count": 238,
      "metadata": {
        "id": "5H6EpXTWL4np"
      },
      "outputs": [],
      "source": [
        "import numpy as np\n",
        "import pandas as pd\n",
        "import matplotlib.pyplot as plt"
      ]
    },
    {
      "cell_type": "code",
      "execution_count": 239,
      "metadata": {
        "colab": {
          "base_uri": "https://localhost:8080/",
          "height": 423
        },
        "id": "FOtX7xn6mtK9",
        "outputId": "3e062356-2758-4fcd-fe29-87bda810ab3f"
      },
      "outputs": [
        {
          "data": {
            "text/html": [
              "<div>\n",
              "<style scoped>\n",
              "    .dataframe tbody tr th:only-of-type {\n",
              "        vertical-align: middle;\n",
              "    }\n",
              "\n",
              "    .dataframe tbody tr th {\n",
              "        vertical-align: top;\n",
              "    }\n",
              "\n",
              "    .dataframe thead th {\n",
              "        text-align: right;\n",
              "    }\n",
              "</style>\n",
              "<table border=\"1\" class=\"dataframe\">\n",
              "  <thead>\n",
              "    <tr style=\"text-align: right;\">\n",
              "      <th></th>\n",
              "      <th>id</th>\n",
              "      <th>x1</th>\n",
              "      <th>x2</th>\n",
              "      <th>x3</th>\n",
              "      <th>x4</th>\n",
              "      <th>x5</th>\n",
              "      <th>x6</th>\n",
              "      <th>x7</th>\n",
              "      <th>x8</th>\n",
              "      <th>x9</th>\n",
              "      <th>x10</th>\n",
              "      <th>y</th>\n",
              "    </tr>\n",
              "  </thead>\n",
              "  <tbody>\n",
              "    <tr>\n",
              "      <th>0</th>\n",
              "      <td>id-001</td>\n",
              "      <td>22.34</td>\n",
              "      <td>0.56</td>\n",
              "      <td>g</td>\n",
              "      <td>o</td>\n",
              "      <td>u</td>\n",
              "      <td>9.43</td>\n",
              "      <td>25.38</td>\n",
              "      <td>-20.91</td>\n",
              "      <td>-25.84</td>\n",
              "      <td>4.08</td>\n",
              "      <td>B</td>\n",
              "    </tr>\n",
              "    <tr>\n",
              "      <th>1</th>\n",
              "      <td>id-002</td>\n",
              "      <td>-2.31</td>\n",
              "      <td>7.36</td>\n",
              "      <td>i</td>\n",
              "      <td>p</td>\n",
              "      <td>y</td>\n",
              "      <td>-3.94</td>\n",
              "      <td>NaN</td>\n",
              "      <td>31.65</td>\n",
              "      <td>12.95</td>\n",
              "      <td>9.82</td>\n",
              "      <td>C</td>\n",
              "    </tr>\n",
              "    <tr>\n",
              "      <th>2</th>\n",
              "      <td>id-003</td>\n",
              "      <td>-17.55</td>\n",
              "      <td>-4.09</td>\n",
              "      <td>f</td>\n",
              "      <td>l</td>\n",
              "      <td>v</td>\n",
              "      <td>-11.02</td>\n",
              "      <td>-1.77</td>\n",
              "      <td>-17.57</td>\n",
              "      <td>15.98</td>\n",
              "      <td>11.43</td>\n",
              "      <td>D</td>\n",
              "    </tr>\n",
              "    <tr>\n",
              "      <th>3</th>\n",
              "      <td>id-004</td>\n",
              "      <td>-13.54</td>\n",
              "      <td>-5.42</td>\n",
              "      <td>g</td>\n",
              "      <td>p</td>\n",
              "      <td>x</td>\n",
              "      <td>4.11</td>\n",
              "      <td>2.22</td>\n",
              "      <td>16.72</td>\n",
              "      <td>9.86</td>\n",
              "      <td>16.43</td>\n",
              "      <td>A</td>\n",
              "    </tr>\n",
              "    <tr>\n",
              "      <th>4</th>\n",
              "      <td>id-005</td>\n",
              "      <td>13.39</td>\n",
              "      <td>-3.20</td>\n",
              "      <td>i</td>\n",
              "      <td>l</td>\n",
              "      <td>v</td>\n",
              "      <td>2.23</td>\n",
              "      <td>11.76</td>\n",
              "      <td>1.34</td>\n",
              "      <td>4.16</td>\n",
              "      <td>-6.49</td>\n",
              "      <td>B</td>\n",
              "    </tr>\n",
              "    <tr>\n",
              "      <th>...</th>\n",
              "      <td>...</td>\n",
              "      <td>...</td>\n",
              "      <td>...</td>\n",
              "      <td>...</td>\n",
              "      <td>...</td>\n",
              "      <td>...</td>\n",
              "      <td>...</td>\n",
              "      <td>...</td>\n",
              "      <td>...</td>\n",
              "      <td>...</td>\n",
              "      <td>...</td>\n",
              "      <td>...</td>\n",
              "    </tr>\n",
              "    <tr>\n",
              "      <th>485</th>\n",
              "      <td>id-486</td>\n",
              "      <td>12.54</td>\n",
              "      <td>3.16</td>\n",
              "      <td>h</td>\n",
              "      <td>m</td>\n",
              "      <td>v</td>\n",
              "      <td>-3.49</td>\n",
              "      <td>-16.43</td>\n",
              "      <td>-3.70</td>\n",
              "      <td>-4.12</td>\n",
              "      <td>-2.83</td>\n",
              "      <td>D</td>\n",
              "    </tr>\n",
              "    <tr>\n",
              "      <th>486</th>\n",
              "      <td>id-487</td>\n",
              "      <td>8.10</td>\n",
              "      <td>-2.49</td>\n",
              "      <td>i</td>\n",
              "      <td>m</td>\n",
              "      <td>u</td>\n",
              "      <td>-10.61</td>\n",
              "      <td>-1.63</td>\n",
              "      <td>-8.81</td>\n",
              "      <td>18.60</td>\n",
              "      <td>10.92</td>\n",
              "      <td>B</td>\n",
              "    </tr>\n",
              "    <tr>\n",
              "      <th>487</th>\n",
              "      <td>id-488</td>\n",
              "      <td>13.72</td>\n",
              "      <td>-10.59</td>\n",
              "      <td>i</td>\n",
              "      <td>m</td>\n",
              "      <td>y</td>\n",
              "      <td>-32.73</td>\n",
              "      <td>-3.94</td>\n",
              "      <td>NaN</td>\n",
              "      <td>8.97</td>\n",
              "      <td>-8.30</td>\n",
              "      <td>C</td>\n",
              "    </tr>\n",
              "    <tr>\n",
              "      <th>488</th>\n",
              "      <td>id-489</td>\n",
              "      <td>-6.12</td>\n",
              "      <td>-6.37</td>\n",
              "      <td>e</td>\n",
              "      <td>m</td>\n",
              "      <td>u</td>\n",
              "      <td>22.34</td>\n",
              "      <td>-4.66</td>\n",
              "      <td>-10.86</td>\n",
              "      <td>-17.77</td>\n",
              "      <td>-0.21</td>\n",
              "      <td>C</td>\n",
              "    </tr>\n",
              "    <tr>\n",
              "      <th>489</th>\n",
              "      <td>id-490</td>\n",
              "      <td>-4.73</td>\n",
              "      <td>-10.89</td>\n",
              "      <td>g</td>\n",
              "      <td>n</td>\n",
              "      <td>x</td>\n",
              "      <td>-20.01</td>\n",
              "      <td>16.22</td>\n",
              "      <td>-9.36</td>\n",
              "      <td>9.43</td>\n",
              "      <td>-2.02</td>\n",
              "      <td>B</td>\n",
              "    </tr>\n",
              "  </tbody>\n",
              "</table>\n",
              "<p>490 rows × 12 columns</p>\n",
              "</div>"
            ],
            "text/plain": [
              "         id     x1     x2 x3 x4 x5     x6     x7     x8     x9    x10  y\n",
              "0    id-001  22.34   0.56  g  o  u   9.43  25.38 -20.91 -25.84   4.08  B\n",
              "1    id-002  -2.31   7.36  i  p  y  -3.94    NaN  31.65  12.95   9.82  C\n",
              "2    id-003 -17.55  -4.09  f  l  v -11.02  -1.77 -17.57  15.98  11.43  D\n",
              "3    id-004 -13.54  -5.42  g  p  x   4.11   2.22  16.72   9.86  16.43  A\n",
              "4    id-005  13.39  -3.20  i  l  v   2.23  11.76   1.34   4.16  -6.49  B\n",
              "..      ...    ...    ... .. .. ..    ...    ...    ...    ...    ... ..\n",
              "485  id-486  12.54   3.16  h  m  v  -3.49 -16.43  -3.70  -4.12  -2.83  D\n",
              "486  id-487   8.10  -2.49  i  m  u -10.61  -1.63  -8.81  18.60  10.92  B\n",
              "487  id-488  13.72 -10.59  i  m  y -32.73  -3.94    NaN   8.97  -8.30  C\n",
              "488  id-489  -6.12  -6.37  e  m  u  22.34  -4.66 -10.86 -17.77  -0.21  C\n",
              "489  id-490  -4.73 -10.89  g  n  x -20.01  16.22  -9.36   9.43  -2.02  B\n",
              "\n",
              "[490 rows x 12 columns]"
            ]
          },
          "execution_count": 239,
          "metadata": {},
          "output_type": "execute_result"
        }
      ],
      "source": [
        "#df_clss = pd.read_excel('Iris.xlsx')\n",
        "df = pd.read_csv('Ex1-Class-train.csv')\n",
        "df"
      ]
    },
    {
      "cell_type": "code",
      "execution_count": 240,
      "metadata": {
        "colab": {
          "base_uri": "https://localhost:8080/"
        },
        "id": "023trf52nc1p",
        "outputId": "c4829a0d-a53c-4014-9dbc-e667fcc19277"
      },
      "outputs": [
        {
          "data": {
            "text/plain": [
              "D    125\n",
              "B    120\n",
              "A    119\n",
              "C    116\n",
              "Name: y, dtype: int64"
            ]
          },
          "execution_count": 240,
          "metadata": {},
          "output_type": "execute_result"
        }
      ],
      "source": [
        "df['y'].value_counts()"
      ]
    },
    {
      "cell_type": "code",
      "execution_count": 241,
      "metadata": {
        "colab": {
          "base_uri": "https://localhost:8080/"
        },
        "id": "Vwk6dLS4o2uE",
        "outputId": "e11ea519-aa36-4306-9874-0ddfddfe6a05"
      },
      "outputs": [
        {
          "data": {
            "text/plain": [
              "id     10\n",
              "x1     10\n",
              "x2     10\n",
              "x3     10\n",
              "x4     10\n",
              "x5     10\n",
              "x6     10\n",
              "x7     10\n",
              "x8     10\n",
              "x9     10\n",
              "x10    10\n",
              "y      10\n",
              "dtype: int64"
            ]
          },
          "execution_count": 241,
          "metadata": {},
          "output_type": "execute_result"
        }
      ],
      "source": [
        "# Check missing data\n",
        "df.isnull().sum()"
      ]
    },
    {
      "cell_type": "code",
      "execution_count": 242,
      "metadata": {
        "id": "pdzxPvYdpN0p"
      },
      "outputs": [],
      "source": [
        "from sklearn.preprocessing import LabelEncoder"
      ]
    },
    {
      "cell_type": "code",
      "execution_count": 243,
      "metadata": {
        "id": "G4q8JmMcpSf6"
      },
      "outputs": [
        {
          "data": {
            "text/plain": [
              "count    490.000000\n",
              "mean       1.565306\n",
              "std        1.169142\n",
              "min        0.000000\n",
              "25%        1.000000\n",
              "50%        2.000000\n",
              "75%        3.000000\n",
              "max        4.000000\n",
              "Name: y, dtype: float64"
            ]
          },
          "execution_count": 243,
          "metadata": {},
          "output_type": "execute_result"
        }
      ],
      "source": [
        "LE = LabelEncoder()\n",
        "df['y']=LE.fit_transform(df['y'])\n",
        "df['y'].describe()"
      ]
    },
    {
      "cell_type": "code",
      "execution_count": 244,
      "metadata": {},
      "outputs": [],
      "source": [
        "df = df.fillna(0)"
      ]
    },
    {
      "cell_type": "code",
      "execution_count": 246,
      "metadata": {},
      "outputs": [],
      "source": [
        "import string\n",
        "alphabet = list(string.ascii_lowercase)\n",
        "for count in range(len(alphabet)):\n",
        "    df.x3 = df.x3.replace([alphabet[count]], ord(alphabet[count]))\n",
        "    df.x4 = df.x4.replace([alphabet[count]], ord(alphabet[count]))\n",
        "    df.x5 = df.x3.replace([alphabet[count]], ord(alphabet[count]))"
      ]
    },
    {
      "cell_type": "code",
      "execution_count": 247,
      "metadata": {
        "id": "AxXqOdHvpSpQ"
      },
      "outputs": [],
      "source": [
        "# Uses all features\n",
        "X = np.column_stack((df.x1, df.x2, df.x3, df.x4, df.x5, df.x6, df.x7, df.x8, df.x9, df.x10))\n",
        "y = np.array(df.y)"
      ]
    },
    {
      "cell_type": "code",
      "execution_count": 248,
      "metadata": {
        "id": "JbP2846iqSzL"
      },
      "outputs": [],
      "source": [
        "#Preparing the model\n",
        "from sklearn.model_selection import train_test_split, GridSearchCV, KFold\n",
        "X_train, X_test, y_train, y_test = train_test_split(X,y, test_size = 0.30, random_state = 1)"
      ]
    },
    {
      "cell_type": "code",
      "execution_count": 249,
      "metadata": {
        "colab": {
          "base_uri": "https://localhost:8080/"
        },
        "id": "bruvtNjQqS3n",
        "outputId": "86b1e57d-bf96-49aa-c8a8-ab61c234521e"
      },
      "outputs": [
        {
          "data": {
            "text/plain": [
              "{'n_neighbors': 10}"
            ]
          },
          "execution_count": 249,
          "metadata": {},
          "output_type": "execute_result"
        }
      ],
      "source": [
        "from sklearn.neighbors import KNeighborsClassifier\n",
        "knn = KNeighborsClassifier()\n",
        "\n",
        "cv = KFold(n_splits=10, random_state=1, shuffle=True)\n",
        "\n",
        "grid_params_knn = { 'n_neighbors' : range(1,20)}\n",
        "\n",
        "gs = GridSearchCV(KNeighborsClassifier(), grid_params_knn, cv=cv)\n",
        "gs.fit(X_train, y_train)\n",
        "gs.best_params_"
      ]
    },
    {
      "cell_type": "code",
      "execution_count": 250,
      "metadata": {
        "colab": {
          "base_uri": "https://localhost:8080/"
        },
        "id": "64_bZHr0ra54",
        "outputId": "737ccddd-e82f-4099-cd23-2f1862f469a1"
      },
      "outputs": [
        {
          "data": {
            "text/plain": [
              "0.6598639455782312"
            ]
          },
          "execution_count": 250,
          "metadata": {},
          "output_type": "execute_result"
        }
      ],
      "source": [
        "knn_final = KNeighborsClassifier(n_neighbors = 10)\n",
        "knn_final.fit(X_train, y_train)\n",
        "knn_final.score(X_test, y_test)"
      ]
    },
    {
      "cell_type": "code",
      "execution_count": 251,
      "metadata": {
        "id": "VEpGy01JsmcA"
      },
      "outputs": [],
      "source": [
        "accuracy = []\n",
        "count = []\n",
        "for i in range (1, 41):\n",
        "  knn_manual = KNeighborsClassifier(n_neighbors = i)\n",
        "  knn_manual.fit(X_train, y_train)\n",
        "  accuracy.append(knn_manual.score(X_test,y_test))\n",
        "  count.append(i)"
      ]
    },
    {
      "cell_type": "code",
      "execution_count": 252,
      "metadata": {
        "colab": {
          "base_uri": "https://localhost:8080/",
          "height": 295
        },
        "id": "VBft8XsEs7Ix",
        "outputId": "1090e3b0-59f2-4bda-94f6-3985c1b87227"
      },
      "outputs": [
        {
          "data": {
            "image/png": "[encoded data removed]",
            "text/plain": [
              "<Figure size 640x480 with 1 Axes>"
            ]
          },
          "metadata": {},
          "output_type": "display_data"
        }
      ],
      "source": [
        "plt.title('The Elbow Method')\n",
        "plt.plot(count,accuracy)\n",
        "plt.xlabel('Nearest neighboor')\n",
        "plt.ylabel('Accuracy')\n",
        "plt.show()"
      ]
    },
    {
      "cell_type": "code",
      "execution_count": 253,
      "metadata": {},
      "outputs": [
        {
          "name": "stdout",
          "output_type": "stream",
          "text": [
            "[0.5850340136054422, 0.54421768707483, 0.6598639455782312, 0.6326530612244898, 0.6802721088435374, 0.6666666666666666, 0.6666666666666666, 0.6666666666666666, 0.673469387755102, 0.6598639455782312, 0.673469387755102, 0.673469387755102, 0.6938775510204082, 0.6802721088435374, 0.6802721088435374, 0.6530612244897959, 0.6394557823129252, 0.6802721088435374, 0.6870748299319728, 0.6802721088435374, 0.673469387755102, 0.6666666666666666, 0.6802721088435374, 0.6938775510204082, 0.6870748299319728, 0.6870748299319728, 0.6870748299319728, 0.6938775510204082, 0.6802721088435374, 0.6938775510204082, 0.6870748299319728, 0.6870748299319728, 0.6938775510204082, 0.6802721088435374, 0.673469387755102, 0.673469387755102, 0.6802721088435374, 0.6598639455782312, 0.6530612244897959, 0.6394557823129252]\n"
          ]
        }
      ],
      "source": [
        "print(accuracy)"
      ]
    },
    {
      "cell_type": "code",
      "execution_count": 254,
      "metadata": {
        "colab": {
          "base_uri": "https://localhost:8080/",
          "height": 237
        },
        "id": "7AWKK_UZLhME",
        "outputId": "d165a594-9121-4039-ba11-18647ab5a46f"
      },
      "outputs": [
        {
          "data": {
            "text/html": [
              "<div>\n",
              "<style scoped>\n",
              "    .dataframe tbody tr th:only-of-type {\n",
              "        vertical-align: middle;\n",
              "    }\n",
              "\n",
              "    .dataframe tbody tr th {\n",
              "        vertical-align: top;\n",
              "    }\n",
              "\n",
              "    .dataframe thead th {\n",
              "        text-align: right;\n",
              "    }\n",
              "</style>\n",
              "<table border=\"1\" class=\"dataframe\">\n",
              "  <thead>\n",
              "    <tr style=\"text-align: right;\">\n",
              "      <th></th>\n",
              "      <th>id</th>\n",
              "      <th>x1</th>\n",
              "      <th>x2</th>\n",
              "      <th>x3</th>\n",
              "      <th>x4</th>\n",
              "      <th>x5</th>\n",
              "      <th>x6</th>\n",
              "      <th>x7</th>\n",
              "      <th>x8</th>\n",
              "      <th>x9</th>\n",
              "      <th>x10</th>\n",
              "    </tr>\n",
              "  </thead>\n",
              "  <tbody>\n",
              "    <tr>\n",
              "      <th>0</th>\n",
              "      <td>Q01</td>\n",
              "      <td>-9.06</td>\n",
              "      <td>-6.24</td>\n",
              "      <td>e</td>\n",
              "      <td>l</td>\n",
              "      <td>y</td>\n",
              "      <td>-17.25</td>\n",
              "      <td>13.47</td>\n",
              "      <td>-9.97</td>\n",
              "      <td>-9.37</td>\n",
              "      <td>8.36</td>\n",
              "    </tr>\n",
              "    <tr>\n",
              "      <th>1</th>\n",
              "      <td>Q02</td>\n",
              "      <td>-10.93</td>\n",
              "      <td>-0.05</td>\n",
              "      <td>e</td>\n",
              "      <td>l</td>\n",
              "      <td>y</td>\n",
              "      <td>-5.69</td>\n",
              "      <td>-6.59</td>\n",
              "      <td>-8.48</td>\n",
              "      <td>-17.99</td>\n",
              "      <td>-8.84</td>\n",
              "    </tr>\n",
              "    <tr>\n",
              "      <th>2</th>\n",
              "      <td>Q03</td>\n",
              "      <td>-9.06</td>\n",
              "      <td>0.07</td>\n",
              "      <td>e</td>\n",
              "      <td>p</td>\n",
              "      <td>y</td>\n",
              "      <td>-26.56</td>\n",
              "      <td>7.69</td>\n",
              "      <td>-15.15</td>\n",
              "      <td>-9.59</td>\n",
              "      <td>-21.66</td>\n",
              "    </tr>\n",
              "    <tr>\n",
              "      <th>3</th>\n",
              "      <td>Q04</td>\n",
              "      <td>5.94</td>\n",
              "      <td>10.92</td>\n",
              "      <td>h</td>\n",
              "      <td>n</td>\n",
              "      <td>v</td>\n",
              "      <td>36.03</td>\n",
              "      <td>-2.95</td>\n",
              "      <td>22.84</td>\n",
              "      <td>-16.83</td>\n",
              "      <td>7.12</td>\n",
              "    </tr>\n",
              "    <tr>\n",
              "      <th>4</th>\n",
              "      <td>Q05</td>\n",
              "      <td>27.87</td>\n",
              "      <td>37.07</td>\n",
              "      <td>i</td>\n",
              "      <td>m</td>\n",
              "      <td>u</td>\n",
              "      <td>1.32</td>\n",
              "      <td>0.71</td>\n",
              "      <td>-17.56</td>\n",
              "      <td>-6.77</td>\n",
              "      <td>4.05</td>\n",
              "    </tr>\n",
              "    <tr>\n",
              "      <th>5</th>\n",
              "      <td>Q06</td>\n",
              "      <td>-9.49</td>\n",
              "      <td>1.17</td>\n",
              "      <td>g</td>\n",
              "      <td>n</td>\n",
              "      <td>u</td>\n",
              "      <td>31.70</td>\n",
              "      <td>-18.75</td>\n",
              "      <td>3.05</td>\n",
              "      <td>5.02</td>\n",
              "      <td>19.09</td>\n",
              "    </tr>\n",
              "    <tr>\n",
              "      <th>6</th>\n",
              "      <td>Q07</td>\n",
              "      <td>1.78</td>\n",
              "      <td>-1.09</td>\n",
              "      <td>e</td>\n",
              "      <td>l</td>\n",
              "      <td>u</td>\n",
              "      <td>41.81</td>\n",
              "      <td>8.74</td>\n",
              "      <td>-2.88</td>\n",
              "      <td>-42.59</td>\n",
              "      <td>-5.83</td>\n",
              "    </tr>\n",
              "    <tr>\n",
              "      <th>7</th>\n",
              "      <td>Q08</td>\n",
              "      <td>-5.82</td>\n",
              "      <td>8.85</td>\n",
              "      <td>e</td>\n",
              "      <td>p</td>\n",
              "      <td>u</td>\n",
              "      <td>30.82</td>\n",
              "      <td>7.79</td>\n",
              "      <td>-20.49</td>\n",
              "      <td>-41.73</td>\n",
              "      <td>-1.85</td>\n",
              "    </tr>\n",
              "    <tr>\n",
              "      <th>8</th>\n",
              "      <td>Q09</td>\n",
              "      <td>-6.36</td>\n",
              "      <td>-2.47</td>\n",
              "      <td>e</td>\n",
              "      <td>l</td>\n",
              "      <td>y</td>\n",
              "      <td>-2.79</td>\n",
              "      <td>21.72</td>\n",
              "      <td>-6.36</td>\n",
              "      <td>-27.26</td>\n",
              "      <td>-13.94</td>\n",
              "    </tr>\n",
              "    <tr>\n",
              "      <th>9</th>\n",
              "      <td>Q10</td>\n",
              "      <td>-16.34</td>\n",
              "      <td>-8.00</td>\n",
              "      <td>g</td>\n",
              "      <td>o</td>\n",
              "      <td>u</td>\n",
              "      <td>1.29</td>\n",
              "      <td>-7.36</td>\n",
              "      <td>-11.29</td>\n",
              "      <td>23.43</td>\n",
              "      <td>-2.02</td>\n",
              "    </tr>\n",
              "  </tbody>\n",
              "</table>\n",
              "</div>"
            ],
            "text/plain": [
              "    id     x1     x2 x3 x4 x5     x6     x7     x8     x9    x10\n",
              "0  Q01  -9.06  -6.24  e  l  y -17.25  13.47  -9.97  -9.37   8.36\n",
              "1  Q02 -10.93  -0.05  e  l  y  -5.69  -6.59  -8.48 -17.99  -8.84\n",
              "2  Q03  -9.06   0.07  e  p  y -26.56   7.69 -15.15  -9.59 -21.66\n",
              "3  Q04   5.94  10.92  h  n  v  36.03  -2.95  22.84 -16.83   7.12\n",
              "4  Q05  27.87  37.07  i  m  u   1.32   0.71 -17.56  -6.77   4.05\n",
              "5  Q06  -9.49   1.17  g  n  u  31.70 -18.75   3.05   5.02  19.09\n",
              "6  Q07   1.78  -1.09  e  l  u  41.81   8.74  -2.88 -42.59  -5.83\n",
              "7  Q08  -5.82   8.85  e  p  u  30.82   7.79 -20.49 -41.73  -1.85\n",
              "8  Q09  -6.36  -2.47  e  l  y  -2.79  21.72  -6.36 -27.26 -13.94\n",
              "9  Q10 -16.34  -8.00  g  o  u   1.29  -7.36 -11.29  23.43  -2.02"
            ]
          },
          "execution_count": 254,
          "metadata": {},
          "output_type": "execute_result"
        }
      ],
      "source": [
        "DT = pd.read_csv(\"Ex1-Class-unseen.csv\")\n",
        "DT"
      ]
    },
    {
      "cell_type": "code",
      "execution_count": 255,
      "metadata": {},
      "outputs": [],
      "source": [
        "import string\n",
        "alphabet = list(string.ascii_lowercase)\n",
        "for count in range(len(alphabet)):\n",
        "    DT.x3 = DT.x3.replace([alphabet[count]], ord(alphabet[count]))\n",
        "    DT.x4 = DT.x4.replace([alphabet[count]], ord(alphabet[count]))\n",
        "    DT.x5 = DT.x3.replace([alphabet[count]], ord(alphabet[count]))"
      ]
    },
    {
      "cell_type": "code",
      "execution_count": 256,
      "metadata": {
        "id": "Nutfo1zoM3nr"
      },
      "outputs": [],
      "source": [
        "# Uses All Features\n",
        "X_new = np.column_stack((DT.x1, DT.x2, DT.x3, DT.x4, DT.x5, DT.x6, DT.x7, DT.x8, DT.x9, DT.x10))"
      ]
    },
    {
      "cell_type": "code",
      "execution_count": 257,
      "metadata": {
        "id": "zwHUZZ4EMnyS"
      },
      "outputs": [],
      "source": [
        "# y_new = LE.fit_transform(y_new)"
      ]
    },
    {
      "cell_type": "code",
      "execution_count": 258,
      "metadata": {
        "id": "V_zWXqd9NAKk"
      },
      "outputs": [
        {
          "data": {
            "text/plain": [
              "0.685131195335277"
            ]
          },
          "execution_count": 258,
          "metadata": {},
          "output_type": "execute_result"
        }
      ],
      "source": [
        "knn_new = KNeighborsClassifier(n_neighbors = 10)\n",
        "knn_new.fit(X_train, y_train)\n",
        "y_pred = knn_new.predict(X_new)\n",
        "# Print the accuracy\n",
        "knn_new.score(X_train, y_train)"
      ]
    },
    {
      "cell_type": "code",
      "execution_count": 259,
      "metadata": {
        "id": "pwF3tkJgNWh5"
      },
      "outputs": [
        {
          "data": {
            "text/plain": [
              "['D', 'A', 'A', 'B', 'B', 'D', 'C', 'C', 'A', 'D']"
            ]
          },
          "execution_count": 259,
          "metadata": {},
          "output_type": "execute_result"
        }
      ],
      "source": [
        "diag = []\n",
        "for i in range(len(y_pred)):\n",
        "  if y_pred[i] == 0:\n",
        "    diag.append('A')\n",
        "  elif y_pred[i] == 1:\n",
        "    diag.append('B')\n",
        "  elif y_pred[i] == 2:\n",
        "    diag.append('C')\n",
        "  else:\n",
        "    diag.append('D')\n",
        "\n",
        "diag"
      ]
    },
    {
      "cell_type": "code",
      "execution_count": 262,
      "metadata": {},
      "outputs": [
        {
          "name": "stdout",
          "output_type": "stream",
          "text": [
            "loop: 0\n",
            "increment by 1\n",
            "loop: 1\n",
            "increment by 2\n",
            "loop: 2\n",
            "increment by 3\n",
            "loop: 3\n",
            "increment by 4\n",
            "loop: 4\n",
            "increment by 5\n",
            "loop: 5\n",
            "increment by 6\n",
            "loop: 6\n",
            "increment by 7\n",
            "loop: 7\n",
            "increment by 8\n",
            "loop: 8\n",
            "increment by 9\n",
            "loop: 9\n",
            "increment by 10\n"
          ]
        }
      ],
      "source": [
        "special = 'DAABBDCCAD'\n",
        "special_list = []\n",
        "for x in special:\n",
        "    special_list.append(x)\n",
        "\n",
        "# print(special_list)\n",
        "count = 0\n",
        "for x in range(len(diag)):\n",
        "    print('loop:', x)\n",
        "    if diag[x] == special_list[x]:\n",
        "        count += 1\n",
        "        \n",
        "        print(\"increment by\", count)"
      ]
    }
  ],
  "metadata": {
    "colab": {
      "provenance": []
    },
    "kernelspec": {
      "display_name": "Python 3",
      "language": "python",
      "name": "python3"
    },
    "language_info": {
      "codemirror_mode": {
        "name": "ipython",
        "version": 3
      },
      "file_extension": ".py",
      "mimetype": "text/x-python",
      "name": "python",
      "nbconvert_exporter": "python",
      "pygments_lexer": "ipython3",
      "version": "3.10.10"
    },
    "vscode": {
      "interpreter": {
        "hash": "7b02c74446cc3340ec73a22c9ebfb594356eb177937d6ca99937a2338bea8788"
      }
    }
  },
  "nbformat": 4,
  "nbformat_minor": 0
}
