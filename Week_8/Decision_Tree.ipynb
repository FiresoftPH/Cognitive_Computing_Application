{
 "cells": [
  {
   "cell_type": "code",
   "execution_count": 1,
   "metadata": {},
   "outputs": [],
   "source": [
    "from sklearn import tree\n",
    "import numpy as np\n",
    "import pandas as pd\n",
    "import matplotlib.pyplot as plt"
   ]
  },
  {
   "cell_type": "code",
   "execution_count": 2,
   "metadata": {},
   "outputs": [
    {
     "data": {
      "text/html": [
       "<div>\n",
       "<style scoped>\n",
       "    .dataframe tbody tr th:only-of-type {\n",
       "        vertical-align: middle;\n",
       "    }\n",
       "\n",
       "    .dataframe tbody tr th {\n",
       "        vertical-align: top;\n",
       "    }\n",
       "\n",
       "    .dataframe thead th {\n",
       "        text-align: right;\n",
       "    }\n",
       "</style>\n",
       "<table border=\"1\" class=\"dataframe\">\n",
       "  <thead>\n",
       "    <tr style=\"text-align: right;\">\n",
       "      <th></th>\n",
       "      <th>variance</th>\n",
       "      <th>skewness</th>\n",
       "      <th>curtosis</th>\n",
       "      <th>entropy</th>\n",
       "      <th>Class</th>\n",
       "    </tr>\n",
       "  </thead>\n",
       "  <tbody>\n",
       "    <tr>\n",
       "      <th>595</th>\n",
       "      <td>1.15580</td>\n",
       "      <td>6.40030</td>\n",
       "      <td>1.5506</td>\n",
       "      <td>0.69610</td>\n",
       "      <td>authentic</td>\n",
       "    </tr>\n",
       "    <tr>\n",
       "      <th>713</th>\n",
       "      <td>4.09320</td>\n",
       "      <td>5.41320</td>\n",
       "      <td>-1.8219</td>\n",
       "      <td>0.23576</td>\n",
       "      <td>authentic</td>\n",
       "    </tr>\n",
       "    <tr>\n",
       "      <th>1280</th>\n",
       "      <td>0.11032</td>\n",
       "      <td>1.97410</td>\n",
       "      <td>-3.3668</td>\n",
       "      <td>-0.65259</td>\n",
       "      <td>counterfeit</td>\n",
       "    </tr>\n",
       "    <tr>\n",
       "      <th>696</th>\n",
       "      <td>5.59100</td>\n",
       "      <td>10.46430</td>\n",
       "      <td>-4.3839</td>\n",
       "      <td>-4.33790</td>\n",
       "      <td>authentic</td>\n",
       "    </tr>\n",
       "    <tr>\n",
       "      <th>987</th>\n",
       "      <td>-1.47810</td>\n",
       "      <td>0.14277</td>\n",
       "      <td>-1.1622</td>\n",
       "      <td>-0.48579</td>\n",
       "      <td>counterfeit</td>\n",
       "    </tr>\n",
       "  </tbody>\n",
       "</table>\n",
       "</div>"
      ],
      "text/plain": [
       "      variance  skewness  curtosis  entropy        Class\n",
       "595    1.15580   6.40030    1.5506  0.69610    authentic\n",
       "713    4.09320   5.41320   -1.8219  0.23576    authentic\n",
       "1280   0.11032   1.97410   -3.3668 -0.65259  counterfeit\n",
       "696    5.59100  10.46430   -4.3839 -4.33790    authentic\n",
       "987   -1.47810   0.14277   -1.1622 -0.48579  counterfeit"
      ]
     },
     "execution_count": 2,
     "metadata": {},
     "output_type": "execute_result"
    }
   ],
   "source": [
    "df = pd.read_excel('BankNote_Authentic.xlsx')\n",
    "df.sample(5)"
   ]
  },
  {
   "cell_type": "code",
   "execution_count": 3,
   "metadata": {},
   "outputs": [
    {
     "data": {
      "text/plain": [
       "authentic      757\n",
       "counterfeit    605\n",
       "Name: Class, dtype: int64"
      ]
     },
     "execution_count": 3,
     "metadata": {},
     "output_type": "execute_result"
    }
   ],
   "source": [
    "df.Class.value_counts()"
   ]
  },
  {
   "cell_type": "code",
   "execution_count": 4,
   "metadata": {},
   "outputs": [
    {
     "data": {
      "text/html": [
       "<div>\n",
       "<style scoped>\n",
       "    .dataframe tbody tr th:only-of-type {\n",
       "        vertical-align: middle;\n",
       "    }\n",
       "\n",
       "    .dataframe tbody tr th {\n",
       "        vertical-align: top;\n",
       "    }\n",
       "\n",
       "    .dataframe thead th {\n",
       "        text-align: right;\n",
       "    }\n",
       "</style>\n",
       "<table border=\"1\" class=\"dataframe\">\n",
       "  <thead>\n",
       "    <tr style=\"text-align: right;\">\n",
       "      <th></th>\n",
       "      <th>variance</th>\n",
       "      <th>skewness</th>\n",
       "      <th>curtosis</th>\n",
       "      <th>entropy</th>\n",
       "    </tr>\n",
       "  </thead>\n",
       "  <tbody>\n",
       "    <tr>\n",
       "      <th>count</th>\n",
       "      <td>1362.000000</td>\n",
       "      <td>1362.000000</td>\n",
       "      <td>1362.000000</td>\n",
       "      <td>1362.000000</td>\n",
       "    </tr>\n",
       "    <tr>\n",
       "      <th>mean</th>\n",
       "      <td>0.443521</td>\n",
       "      <td>1.916458</td>\n",
       "      <td>1.396395</td>\n",
       "      <td>-1.177602</td>\n",
       "    </tr>\n",
       "    <tr>\n",
       "      <th>std</th>\n",
       "      <td>2.839102</td>\n",
       "      <td>5.865625</td>\n",
       "      <td>4.312428</td>\n",
       "      <td>2.089540</td>\n",
       "    </tr>\n",
       "    <tr>\n",
       "      <th>min</th>\n",
       "      <td>-7.042100</td>\n",
       "      <td>-13.773100</td>\n",
       "      <td>-5.286100</td>\n",
       "      <td>-8.548200</td>\n",
       "    </tr>\n",
       "    <tr>\n",
       "      <th>25%</th>\n",
       "      <td>-1.767250</td>\n",
       "      <td>-1.701475</td>\n",
       "      <td>-1.631525</td>\n",
       "      <td>-2.389550</td>\n",
       "    </tr>\n",
       "    <tr>\n",
       "      <th>50%</th>\n",
       "      <td>0.505190</td>\n",
       "      <td>2.301000</td>\n",
       "      <td>0.622630</td>\n",
       "      <td>-0.580830</td>\n",
       "    </tr>\n",
       "    <tr>\n",
       "      <th>75%</th>\n",
       "      <td>2.823575</td>\n",
       "      <td>6.809500</td>\n",
       "      <td>3.183950</td>\n",
       "      <td>0.396752</td>\n",
       "    </tr>\n",
       "    <tr>\n",
       "      <th>max</th>\n",
       "      <td>6.824800</td>\n",
       "      <td>12.951600</td>\n",
       "      <td>17.927400</td>\n",
       "      <td>2.449500</td>\n",
       "    </tr>\n",
       "  </tbody>\n",
       "</table>\n",
       "</div>"
      ],
      "text/plain": [
       "          variance     skewness     curtosis      entropy\n",
       "count  1362.000000  1362.000000  1362.000000  1362.000000\n",
       "mean      0.443521     1.916458     1.396395    -1.177602\n",
       "std       2.839102     5.865625     4.312428     2.089540\n",
       "min      -7.042100   -13.773100    -5.286100    -8.548200\n",
       "25%      -1.767250    -1.701475    -1.631525    -2.389550\n",
       "50%       0.505190     2.301000     0.622630    -0.580830\n",
       "75%       2.823575     6.809500     3.183950     0.396752\n",
       "max       6.824800    12.951600    17.927400     2.449500"
      ]
     },
     "execution_count": 4,
     "metadata": {},
     "output_type": "execute_result"
    }
   ],
   "source": [
    "df.describe()"
   ]
  },
  {
   "cell_type": "code",
   "execution_count": 5,
   "metadata": {},
   "outputs": [
    {
     "data": {
      "text/plain": [
       "(1362, 5)"
      ]
     },
     "execution_count": 5,
     "metadata": {},
     "output_type": "execute_result"
    }
   ],
   "source": [
    "df.shape"
   ]
  },
  {
   "cell_type": "code",
   "execution_count": 6,
   "metadata": {},
   "outputs": [],
   "source": [
    "from sklearn.model_selection import train_test_split\n",
    "data = np.column_stack((df.variance, df.skewness, df.curtosis, df.entropy))\n",
    "\n",
    "target = df.Class\n",
    "\n",
    "data_train, data_test, target_train, target_test = train_test_split(data, target, test_size=0.3, random_state=1)"
   ]
  },
  {
   "cell_type": "code",
   "execution_count": 7,
   "metadata": {},
   "outputs": [
    {
     "data": {
      "text/html": [
       "<style>#sk-container-id-1 {color: black;background-color: white;}#sk-container-id-1 pre{padding: 0;}#sk-container-id-1 div.sk-toggleable {background-color: white;}#sk-container-id-1 label.sk-toggleable__label {cursor: pointer;display: block;width: 100%;margin-bottom: 0;padding: 0.3em;box-sizing: border-box;text-align: center;}#sk-container-id-1 label.sk-toggleable__label-arrow:before {content: \"▸\";float: left;margin-right: 0.25em;color: #696969;}#sk-container-id-1 label.sk-toggleable__label-arrow:hover:before {color: black;}#sk-container-id-1 div.sk-estimator:hover label.sk-toggleable__label-arrow:before {color: black;}#sk-container-id-1 div.sk-toggleable__content {max-height: 0;max-width: 0;overflow: hidden;text-align: left;background-color: #f0f8ff;}#sk-container-id-1 div.sk-toggleable__content pre {margin: 0.2em;color: black;border-radius: 0.25em;background-color: #f0f8ff;}#sk-container-id-1 input.sk-toggleable__control:checked~div.sk-toggleable__content {max-height: 200px;max-width: 100%;overflow: auto;}#sk-container-id-1 input.sk-toggleable__control:checked~label.sk-toggleable__label-arrow:before {content: \"▾\";}#sk-container-id-1 div.sk-estimator input.sk-toggleable__control:checked~label.sk-toggleable__label {background-color: #d4ebff;}#sk-container-id-1 div.sk-label input.sk-toggleable__control:checked~label.sk-toggleable__label {background-color: #d4ebff;}#sk-container-id-1 input.sk-hidden--visually {border: 0;clip: rect(1px 1px 1px 1px);clip: rect(1px, 1px, 1px, 1px);height: 1px;margin: -1px;overflow: hidden;padding: 0;position: absolute;width: 1px;}#sk-container-id-1 div.sk-estimator {font-family: monospace;background-color: #f0f8ff;border: 1px dotted black;border-radius: 0.25em;box-sizing: border-box;margin-bottom: 0.5em;}#sk-container-id-1 div.sk-estimator:hover {background-color: #d4ebff;}#sk-container-id-1 div.sk-parallel-item::after {content: \"\";width: 100%;border-bottom: 1px solid gray;flex-grow: 1;}#sk-container-id-1 div.sk-label:hover label.sk-toggleable__label {background-color: #d4ebff;}#sk-container-id-1 div.sk-serial::before {content: \"\";position: absolute;border-left: 1px solid gray;box-sizing: border-box;top: 0;bottom: 0;left: 50%;z-index: 0;}#sk-container-id-1 div.sk-serial {display: flex;flex-direction: column;align-items: center;background-color: white;padding-right: 0.2em;padding-left: 0.2em;position: relative;}#sk-container-id-1 div.sk-item {position: relative;z-index: 1;}#sk-container-id-1 div.sk-parallel {display: flex;align-items: stretch;justify-content: center;background-color: white;position: relative;}#sk-container-id-1 div.sk-item::before, #sk-container-id-1 div.sk-parallel-item::before {content: \"\";position: absolute;border-left: 1px solid gray;box-sizing: border-box;top: 0;bottom: 0;left: 50%;z-index: -1;}#sk-container-id-1 div.sk-parallel-item {display: flex;flex-direction: column;z-index: 1;position: relative;background-color: white;}#sk-container-id-1 div.sk-parallel-item:first-child::after {align-self: flex-end;width: 50%;}#sk-container-id-1 div.sk-parallel-item:last-child::after {align-self: flex-start;width: 50%;}#sk-container-id-1 div.sk-parallel-item:only-child::after {width: 0;}#sk-container-id-1 div.sk-dashed-wrapped {border: 1px dashed gray;margin: 0 0.4em 0.5em 0.4em;box-sizing: border-box;padding-bottom: 0.4em;background-color: white;}#sk-container-id-1 div.sk-label label {font-family: monospace;font-weight: bold;display: inline-block;line-height: 1.2em;}#sk-container-id-1 div.sk-label-container {text-align: center;}#sk-container-id-1 div.sk-container {/* jupyter's `normalize.less` sets `[hidden] { display: none; }` but bootstrap.min.css set `[hidden] { display: none !important; }` so we also need the `!important` here to be able to override the default hidden behavior on the sphinx rendered scikit-learn.org. See: https://github.com/scikit-learn/scikit-learn/issues/21755 */display: inline-block !important;position: relative;}#sk-container-id-1 div.sk-text-repr-fallback {display: none;}</style><div id=\"sk-container-id-1\" class=\"sk-top-container\"><div class=\"sk-text-repr-fallback\"><pre>DecisionTreeClassifier()</pre><b>In a Jupyter environment, please rerun this cell to show the HTML representation or trust the notebook. <br />On GitHub, the HTML representation is unable to render, please try loading this page with nbviewer.org.</b></div><div class=\"sk-container\" hidden><div class=\"sk-item\"><div class=\"sk-estimator sk-toggleable\"><input class=\"sk-toggleable__control sk-hidden--visually\" id=\"sk-estimator-id-1\" type=\"checkbox\" checked><label for=\"sk-estimator-id-1\" class=\"sk-toggleable__label sk-toggleable__label-arrow\">DecisionTreeClassifier</label><div class=\"sk-toggleable__content\"><pre>DecisionTreeClassifier()</pre></div></div></div></div></div>"
      ],
      "text/plain": [
       "DecisionTreeClassifier()"
      ]
     },
     "execution_count": 7,
     "metadata": {},
     "output_type": "execute_result"
    }
   ],
   "source": [
    "model = tree.DecisionTreeClassifier()\n",
    "model.fit(data_train, target_train)\n",
    "model"
   ]
  },
  {
   "cell_type": "code",
   "execution_count": 8,
   "metadata": {},
   "outputs": [
    {
     "data": {
      "text/plain": [
       "array(['counterfeit', 'authentic', 'authentic', 'authentic', 'authentic',\n",
       "       'counterfeit', 'counterfeit', 'counterfeit', 'counterfeit',\n",
       "       'counterfeit', 'counterfeit', 'authentic', 'counterfeit',\n",
       "       'authentic', 'counterfeit', 'counterfeit', 'authentic',\n",
       "       'authentic', 'counterfeit', 'authentic', 'counterfeit',\n",
       "       'authentic', 'authentic', 'authentic', 'authentic', 'authentic',\n",
       "       'counterfeit', 'authentic', 'authentic', 'counterfeit',\n",
       "       'counterfeit', 'authentic', 'counterfeit', 'authentic',\n",
       "       'counterfeit', 'counterfeit', 'authentic', 'counterfeit',\n",
       "       'authentic', 'counterfeit', 'counterfeit', 'counterfeit',\n",
       "       'authentic', 'counterfeit', 'authentic', 'counterfeit',\n",
       "       'counterfeit', 'counterfeit', 'authentic', 'authentic',\n",
       "       'counterfeit', 'counterfeit', 'counterfeit', 'counterfeit',\n",
       "       'counterfeit', 'authentic', 'authentic', 'authentic', 'authentic',\n",
       "       'authentic', 'counterfeit', 'authentic', 'counterfeit',\n",
       "       'authentic', 'authentic', 'counterfeit', 'authentic',\n",
       "       'counterfeit', 'counterfeit', 'counterfeit', 'authentic',\n",
       "       'authentic', 'counterfeit', 'authentic', 'authentic', 'authentic',\n",
       "       'counterfeit', 'authentic', 'counterfeit', 'authentic',\n",
       "       'authentic', 'counterfeit', 'authentic', 'authentic',\n",
       "       'counterfeit', 'counterfeit', 'counterfeit', 'counterfeit',\n",
       "       'counterfeit', 'counterfeit', 'authentic', 'authentic',\n",
       "       'authentic', 'authentic', 'authentic', 'authentic', 'counterfeit',\n",
       "       'counterfeit', 'authentic', 'counterfeit', 'authentic',\n",
       "       'authentic', 'counterfeit', 'counterfeit', 'authentic',\n",
       "       'authentic', 'authentic', 'authentic', 'authentic', 'counterfeit',\n",
       "       'counterfeit', 'counterfeit', 'authentic', 'counterfeit',\n",
       "       'authentic', 'authentic', 'authentic', 'authentic', 'counterfeit',\n",
       "       'counterfeit', 'counterfeit', 'counterfeit', 'counterfeit',\n",
       "       'authentic', 'authentic', 'authentic', 'authentic', 'authentic',\n",
       "       'authentic', 'authentic', 'authentic', 'authentic', 'counterfeit',\n",
       "       'authentic', 'authentic', 'counterfeit', 'counterfeit',\n",
       "       'authentic', 'counterfeit', 'counterfeit', 'counterfeit',\n",
       "       'authentic', 'counterfeit', 'authentic', 'authentic',\n",
       "       'counterfeit', 'authentic', 'authentic', 'authentic', 'authentic',\n",
       "       'counterfeit', 'authentic', 'counterfeit', 'counterfeit',\n",
       "       'authentic', 'counterfeit', 'authentic', 'authentic', 'authentic',\n",
       "       'counterfeit', 'counterfeit', 'counterfeit', 'authentic',\n",
       "       'counterfeit', 'counterfeit', 'authentic', 'counterfeit',\n",
       "       'authentic', 'authentic', 'authentic', 'authentic', 'counterfeit',\n",
       "       'counterfeit', 'counterfeit', 'authentic', 'authentic',\n",
       "       'counterfeit', 'authentic', 'authentic', 'counterfeit',\n",
       "       'counterfeit', 'counterfeit', 'authentic', 'counterfeit',\n",
       "       'counterfeit', 'authentic', 'counterfeit', 'authentic',\n",
       "       'counterfeit', 'authentic', 'counterfeit', 'counterfeit',\n",
       "       'authentic', 'authentic', 'authentic', 'counterfeit', 'authentic',\n",
       "       'authentic', 'counterfeit', 'authentic', 'authentic', 'authentic',\n",
       "       'authentic', 'authentic', 'counterfeit', 'authentic', 'authentic',\n",
       "       'counterfeit', 'counterfeit', 'authentic', 'authentic',\n",
       "       'authentic', 'authentic', 'counterfeit', 'counterfeit',\n",
       "       'authentic', 'authentic', 'authentic', 'counterfeit',\n",
       "       'counterfeit', 'counterfeit', 'authentic', 'counterfeit',\n",
       "       'authentic', 'authentic', 'counterfeit', 'authentic',\n",
       "       'counterfeit', 'authentic', 'authentic', 'authentic', 'authentic',\n",
       "       'authentic', 'authentic', 'counterfeit', 'authentic', 'authentic',\n",
       "       'authentic', 'authentic', 'counterfeit', 'authentic',\n",
       "       'counterfeit', 'counterfeit', 'authentic', 'counterfeit',\n",
       "       'counterfeit', 'authentic', 'authentic', 'authentic', 'authentic',\n",
       "       'authentic', 'counterfeit', 'authentic', 'counterfeit',\n",
       "       'counterfeit', 'authentic', 'authentic', 'authentic', 'authentic',\n",
       "       'authentic', 'authentic', 'counterfeit', 'authentic',\n",
       "       'counterfeit', 'authentic', 'authentic', 'authentic', 'authentic',\n",
       "       'counterfeit', 'authentic', 'authentic', 'authentic', 'authentic',\n",
       "       'authentic', 'counterfeit', 'authentic', 'authentic', 'authentic',\n",
       "       'counterfeit', 'authentic', 'authentic', 'counterfeit',\n",
       "       'authentic', 'counterfeit', 'counterfeit', 'counterfeit',\n",
       "       'authentic', 'authentic', 'counterfeit', 'authentic', 'authentic',\n",
       "       'counterfeit', 'authentic', 'counterfeit', 'counterfeit',\n",
       "       'authentic', 'authentic', 'authentic', 'counterfeit',\n",
       "       'counterfeit', 'counterfeit', 'authentic', 'authentic',\n",
       "       'counterfeit', 'authentic', 'counterfeit', 'authentic',\n",
       "       'counterfeit', 'authentic', 'authentic', 'authentic', 'authentic',\n",
       "       'counterfeit', 'counterfeit', 'authentic', 'authentic',\n",
       "       'counterfeit', 'counterfeit', 'authentic', 'authentic',\n",
       "       'authentic', 'authentic', 'counterfeit', 'authentic', 'authentic',\n",
       "       'counterfeit', 'counterfeit', 'authentic', 'authentic',\n",
       "       'counterfeit', 'counterfeit', 'authentic', 'authentic',\n",
       "       'authentic', 'authentic', 'counterfeit', 'counterfeit',\n",
       "       'counterfeit', 'authentic', 'authentic', 'authentic', 'authentic',\n",
       "       'authentic', 'authentic', 'authentic', 'counterfeit', 'authentic',\n",
       "       'counterfeit', 'authentic', 'counterfeit', 'counterfeit',\n",
       "       'authentic', 'counterfeit', 'authentic', 'counterfeit',\n",
       "       'counterfeit', 'counterfeit', 'counterfeit', 'counterfeit',\n",
       "       'authentic', 'counterfeit', 'counterfeit', 'counterfeit',\n",
       "       'authentic', 'authentic', 'counterfeit', 'counterfeit',\n",
       "       'authentic', 'counterfeit', 'counterfeit', 'counterfeit',\n",
       "       'counterfeit', 'authentic', 'authentic', 'counterfeit',\n",
       "       'authentic', 'counterfeit', 'authentic', 'authentic', 'authentic',\n",
       "       'counterfeit', 'authentic', 'authentic', 'authentic', 'authentic',\n",
       "       'authentic', 'authentic', 'authentic', 'authentic', 'authentic',\n",
       "       'authentic', 'authentic', 'authentic', 'authentic', 'authentic',\n",
       "       'authentic', 'authentic', 'counterfeit', 'authentic',\n",
       "       'counterfeit', 'counterfeit', 'counterfeit', 'counterfeit',\n",
       "       'counterfeit', 'counterfeit', 'counterfeit', 'counterfeit',\n",
       "       'counterfeit', 'counterfeit'], dtype=object)"
      ]
     },
     "execution_count": 8,
     "metadata": {},
     "output_type": "execute_result"
    }
   ],
   "source": [
    "test_pred = model.predict(data_test)\n",
    "test_pred"
   ]
  },
  {
   "cell_type": "code",
   "execution_count": 9,
   "metadata": {},
   "outputs": [
    {
     "data": {
      "text/plain": [
       "0.9955947136563876"
      ]
     },
     "execution_count": 9,
     "metadata": {},
     "output_type": "execute_result"
    }
   ],
   "source": [
    "model.score(data, target)"
   ]
  },
  {
   "cell_type": "code",
   "execution_count": 10,
   "metadata": {},
   "outputs": [
    {
     "name": "stdout",
     "output_type": "stream",
     "text": [
      "              precision    recall  f1-score   support\n",
      "\n",
      "   authentic       0.99      0.98      0.99       233\n",
      " counterfeit       0.98      0.99      0.98       176\n",
      "\n",
      "    accuracy                           0.99       409\n",
      "   macro avg       0.98      0.99      0.99       409\n",
      "weighted avg       0.99      0.99      0.99       409\n",
      "\n"
     ]
    }
   ],
   "source": [
    "from sklearn.metrics import classification_report\n",
    "\n",
    "print(classification_report(target_test, test_pred))"
   ]
  },
  {
   "cell_type": "code",
   "execution_count": 11,
   "metadata": {},
   "outputs": [
    {
     "data": {
      "text/html": [
       "<div>\n",
       "<style scoped>\n",
       "    .dataframe tbody tr th:only-of-type {\n",
       "        vertical-align: middle;\n",
       "    }\n",
       "\n",
       "    .dataframe tbody tr th {\n",
       "        vertical-align: top;\n",
       "    }\n",
       "\n",
       "    .dataframe thead th {\n",
       "        text-align: right;\n",
       "    }\n",
       "</style>\n",
       "<table border=\"1\" class=\"dataframe\">\n",
       "  <thead>\n",
       "    <tr style=\"text-align: right;\">\n",
       "      <th></th>\n",
       "      <th>variance</th>\n",
       "      <th>skewness</th>\n",
       "      <th>curtosis</th>\n",
       "      <th>entropy</th>\n",
       "      <th>Class</th>\n",
       "    </tr>\n",
       "  </thead>\n",
       "  <tbody>\n",
       "    <tr>\n",
       "      <th>1</th>\n",
       "      <td>2.12650</td>\n",
       "      <td>6.8783</td>\n",
       "      <td>0.44784</td>\n",
       "      <td>-2.2224</td>\n",
       "      <td>authentic</td>\n",
       "    </tr>\n",
       "    <tr>\n",
       "      <th>5</th>\n",
       "      <td>-5.44140</td>\n",
       "      <td>7.2363</td>\n",
       "      <td>0.10938</td>\n",
       "      <td>-7.5642</td>\n",
       "      <td>counterfeit</td>\n",
       "    </tr>\n",
       "    <tr>\n",
       "      <th>6</th>\n",
       "      <td>-4.12440</td>\n",
       "      <td>3.7909</td>\n",
       "      <td>-0.65320</td>\n",
       "      <td>-4.1802</td>\n",
       "      <td>counterfeit</td>\n",
       "    </tr>\n",
       "    <tr>\n",
       "      <th>7</th>\n",
       "      <td>-4.19580</td>\n",
       "      <td>-8.1819</td>\n",
       "      <td>12.12910</td>\n",
       "      <td>-1.6017</td>\n",
       "      <td>counterfeit</td>\n",
       "    </tr>\n",
       "    <tr>\n",
       "      <th>8</th>\n",
       "      <td>-0.87834</td>\n",
       "      <td>3.2570</td>\n",
       "      <td>-3.67780</td>\n",
       "      <td>-3.2944</td>\n",
       "      <td>counterfeit</td>\n",
       "    </tr>\n",
       "  </tbody>\n",
       "</table>\n",
       "</div>"
      ],
      "text/plain": [
       "   variance  skewness  curtosis  entropy        Class\n",
       "1   2.12650    6.8783   0.44784  -2.2224    authentic\n",
       "5  -5.44140    7.2363   0.10938  -7.5642  counterfeit\n",
       "6  -4.12440    3.7909  -0.65320  -4.1802  counterfeit\n",
       "7  -4.19580   -8.1819  12.12910  -1.6017  counterfeit\n",
       "8  -0.87834    3.2570  -3.67780  -3.2944  counterfeit"
      ]
     },
     "execution_count": 11,
     "metadata": {},
     "output_type": "execute_result"
    }
   ],
   "source": [
    "new_df = pd.read_excel(\"New_data.xlsx\")\n",
    "new_df.sample(5)"
   ]
  },
  {
   "cell_type": "code",
   "execution_count": 12,
   "metadata": {},
   "outputs": [
    {
     "data": {
      "text/plain": [
       "array(['authentic', 'authentic', 'authentic', 'authentic', 'authentic',\n",
       "       'counterfeit', 'counterfeit', 'counterfeit', 'counterfeit',\n",
       "       'counterfeit'], dtype=object)"
      ]
     },
     "execution_count": 12,
     "metadata": {},
     "output_type": "execute_result"
    }
   ],
   "source": [
    "new_data = np.column_stack((new_df.variance, new_df.skewness, new_df.curtosis, new_df.entropy))\n",
    "new_data\n",
    "\n",
    "new_target = np.array(new_df.Class)\n",
    "new_target\n"
   ]
  },
  {
   "cell_type": "code",
   "execution_count": 13,
   "metadata": {},
   "outputs": [],
   "source": [
    "pred = model.predict(new_data)"
   ]
  },
  {
   "cell_type": "code",
   "execution_count": 14,
   "metadata": {},
   "outputs": [
    {
     "data": {
      "text/plain": [
       "1.0"
      ]
     },
     "execution_count": 14,
     "metadata": {},
     "output_type": "execute_result"
    }
   ],
   "source": [
    "from sklearn.metrics import accuracy_score\n",
    "accuracy_score(new_target[:len(new_df)], pred)"
   ]
  },
  {
   "cell_type": "code",
   "execution_count": 16,
   "metadata": {},
   "outputs": [
    {
     "data": {
      "text/plain": [
       "array(['counterfeit'], dtype=object)"
      ]
     },
     "execution_count": 16,
     "metadata": {},
     "output_type": "execute_result"
    }
   ],
   "source": [
    "new_pred = model.predict([[0.234, 0.257, 1.454, 3.582]])\n",
    "new_pred"
   ]
  }
 ],
 "metadata": {
  "kernelspec": {
   "display_name": "Python 3",
   "language": "python",
   "name": "python3"
  },
  "language_info": {
   "codemirror_mode": {
    "name": "ipython",
    "version": 3
   },
   "file_extension": ".py",
   "mimetype": "text/x-python",
   "name": "python",
   "nbconvert_exporter": "python",
   "pygments_lexer": "ipython3",
   "version": "3.10.10"
  },
  "orig_nbformat": 4,
  "vscode": {
   "interpreter": {
    "hash": "7b02c74446cc3340ec73a22c9ebfb594356eb177937d6ca99937a2338bea8788"
   }
  }
 },
 "nbformat": 4,
 "nbformat_minor": 2
}
